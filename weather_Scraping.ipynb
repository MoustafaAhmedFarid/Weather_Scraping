{
 "cells": [
  {
   "cell_type": "code",
   "execution_count": 1,
   "metadata": {},
   "outputs": [],
   "source": [
    "import requests\n",
    "from bs4 import BeautifulSoup\n",
    "from datetime import datetime\n",
    "import time\n",
    "import csv"
   ]
  },
  {
   "cell_type": "code",
   "execution_count": 2,
   "metadata": {},
   "outputs": [],
   "source": [
    "url='https://eg.freemeteo.com/weather/cairo/current-weather/location/?gid=360630&language=english&country=egypt'\n",
    "response=requests.get(url)\n",
    "soup=BeautifulSoup(response.text,'html.parser')"
   ]
  },
  {
   "cell_type": "code",
   "execution_count": 3,
   "metadata": {},
   "outputs": [],
   "source": [
    "temp=soup.find('div', attrs={'class': 'temp'}).get_text()\n",
    "wind = soup.find('div', attrs={'class': 'wind'}).get_text().split(' ')[1]\n",
    "stats = soup.find('div', attrs={'class': 'stats'}).get_text().split(' ')\n",
    "humidity=stats[9]\n",
    "Visibility=stats[30]\n",
    "Pressure=stats[-1]\n",
    "now = datetime.now()\n",
    "time_now = now.strftime(\"%d/%m/%Y %H:%M:%S\")"
   ]
  },
  {
   "cell_type": "code",
   "execution_count": null,
   "metadata": {},
   "outputs": [
    {
     "name": "stdout",
     "output_type": "stream",
     "text": [
      "scrapping done for 1 times at 24/05/2023 16:34:49\n",
      "scrapping done for 2 times at 24/05/2023 16:35:50\n",
      "scrapping done for 3 times at 24/05/2023 16:36:50\n",
      "scrapping done for 4 times at 24/05/2023 16:37:51\n",
      "scrapping done for 5 times at 24/05/2023 16:38:52\n",
      "scrapping done for 6 times at 24/05/2023 16:39:52\n"
     ]
    }
   ],
   "source": [
    "with open('weather_measurements_log.txt', 'w') as f:\n",
    "    for i in range(10):\n",
    "        url = 'https://eg.freemeteo.com/weather/cairo/current-weather/location/?gid=360630&language=english&country=egypt'\n",
    "        response = requests.get(url)\n",
    "        soup = BeautifulSoup(response.text, 'html.parser')\n",
    "        temp = soup.find('div', attrs={'class': 'temp'}).get_text()\n",
    "        temp = float(temp.split('°')[0])\n",
    "        wind = float(soup.find('span', attrs={'class': 'white'}).find('b').get_text().strip())\n",
    "        stats = soup.find('div', attrs={'class': 'stats'}).get_text()\n",
    "        presure=soup.find('div', attrs={'class': 'stats'}).get_text()\n",
    "        for el in stats.split(' '):\n",
    "            if el.endswith('%'):\n",
    "                humidity = float(el.split('%')[0])\n",
    "            elif el.endswith('m'):\n",
    "                visibility = float(el.split('m')[0])\n",
    "            elif el.endswith('mb'):\n",
    "                presure = float(el.split('mb')[0])\n",
    "        now = datetime.now()\n",
    "        time_now = now.strftime(\"%d/%m/%Y %H:%M:%S\")\n",
    "\n",
    "        # Write to Txt file\n",
    "        ############################################################################\n",
    "        output = f\"temp={temp}°C, wind={wind}°Km/h, humidity={humidity}%, visibility={visibility}m, presure={presure}mb at time {time_now}\\n\"\n",
    "        f.write(output)\n",
    "        ############################################################################\n",
    "         \n",
    "        print(f'scrapping done for {i+1} times at {time_now}')\n",
    "        time.sleep(60)"
   ]
  },
  {
   "cell_type": "code",
   "execution_count": null,
   "metadata": {},
   "outputs": [],
   "source": []
  }
 ],
 "metadata": {
  "kernelspec": {
   "display_name": "Python 3 (ipykernel)",
   "language": "python",
   "name": "python3"
  },
  "language_info": {
   "codemirror_mode": {
    "name": "ipython",
    "version": 3
   },
   "file_extension": ".py",
   "mimetype": "text/x-python",
   "name": "python",
   "nbconvert_exporter": "python",
   "pygments_lexer": "ipython3",
   "version": "3.11.3"
  }
 },
 "nbformat": 4,
 "nbformat_minor": 4
}
